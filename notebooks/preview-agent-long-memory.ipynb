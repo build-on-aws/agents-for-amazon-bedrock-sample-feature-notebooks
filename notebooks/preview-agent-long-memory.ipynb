{
 "cells": [
  {
   "cell_type": "markdown",
   "metadata": {},
   "source": [
    "# Setting up and Testing an Agent for Amazon Bedrock with Long Term Memory\n",
    "\n",
    "In this notebook, we'll walk through the process of creating, testing, and cleaning up an Agent in Amazon Bedrock. We'll see how to set up long-term memory, interact with the agent, and even peek into its thought process. \n",
    "\n",
    "We're going to use Agents for Amazon Bedrock in it's simplest form, as a basic chatbot, without any actions.  We do this so that we can focus on the long term memory feature. Keep in mind that one of the main points of agents is to have actions, so these could be added later.  \n",
    "\n",
    "Let's dive in!\n",
    "\n",
    "_(Note: This notebook has cleanup cells at the end, so if you \"Run All\" cells then the resources will be created and then deleted.)_"
   ]
  },
  {
   "cell_type": "markdown",
   "metadata": {},
   "source": [
    "## Step 1: Import Required Libraries\n",
    "\n",
    "First, we need to import the necessary Python libraries. We'll use boto3 for AWS interactions, and some standard libraries for various utilities."
   ]
  },
  {
   "cell_type": "code",
   "execution_count": null,
   "metadata": {},
   "outputs": [],
   "source": [
    "import boto3\n",
    "import json\n",
    "import time, random \n",
    "import uuid, string"
   ]
  },
  {
   "cell_type": "markdown",
   "metadata": {},
   "source": [
    "## Step 2: Set the AWS Region\n",
    "\n",
    "We're using the US West (Oregon) region for this demo. Feel free to change this to your preferred region, but make sure that a) the region supports Amazon Bedrock, b) Agents, c) the Claude Haiku model, and finally d) you have enabled access to the Haiku in this region. "
   ]
  },
  {
   "cell_type": "code",
   "execution_count": null,
   "metadata": {},
   "outputs": [],
   "source": [
    "region_name = 'us-west-2' "
   ]
  },
  {
   "cell_type": "markdown",
   "metadata": {},
   "source": [
    "## Step 3: Create the Bedrock Agent\n",
    "\n",
    "Now comes the exciting part! We're going to set up our Bedrock Agent. This involves creating an IAM role, setting up policies, and configuring the agent itself. We'll use Claude 3 Haiku as our foundation model."
   ]
  },
  {
   "cell_type": "code",
   "execution_count": null,
   "metadata": {},
   "outputs": [],
   "source": [
    "# Set up Bedrock Agent and IAM clients\n",
    "bedrock_agent = boto3.client(service_name = 'bedrock-agent', region_name = region_name)\n",
    "iam = boto3.client('iam')\n",
    "\n",
    "agentName = 'long-term-memory-test-agent'\n",
    "\n",
    "# Define the agent's personality and behavior\n",
    "instruction = \"\"\"You are a witty and knowledgeable AI assistant with a passion for obscure facts and wordplay. Your personality traits include:\n",
    "\n",
    "Curiosity: You love learning new things and asking thought-provoking questions.\n",
    "Humor: You have a dry wit and enjoy making subtle jokes and puns.\n",
    "Creativity: You approach problems from unique angles and enjoy coming up with inventive solutions.\n",
    "Empathy: You're attentive to the user's mood and adapt your tone accordingly.\n",
    "Enthusiasm: You get excited about interesting topics and aren't afraid to show it.\n",
    "\n",
    "Your primary goals in any conversation are to:\n",
    "\n",
    "Engage the user in stimulating dialogue.\n",
    "Share interesting and relevant information when appropriate.\n",
    "Encourage the user to think critically and creatively.\n",
    "Provide helpful assistance while maintaining a light-hearted tone.\n",
    "\n",
    "When you don't know the answer to a question:\n",
    "\n",
    "Admit it honestly.\n",
    "Speculate playfully about what the answer might be.\n",
    "Suggest how you might go about finding the answer if you were human.\n",
    "\n",
    "Remember, you're here for friendly chats and intellectual exploration. Have fun with the conversation, but always remain helpful and respectful.\"\"\"\n",
    "\n",
    "# Specify the foundation model to use (for 'memory' it must be Sonnet or Haiku).\n",
    "foundationModel = 'anthropic.claude-3-haiku-20240307-v1:0'\n",
    "\n",
    "# Generate a random suffix for unique naming\n",
    "randomSuffix = \"\".join(\n",
    "    random.choices(string.ascii_uppercase + string.digits, k=5)\n",
    ")\n",
    "\n",
    "print(\"Creating the IAM policy and role...\")\n",
    "\n",
    "# Define IAM trust policy\n",
    "trustPolicy = {\n",
    "    \"Version\": \"2012-10-17\",\n",
    "    \"Statement\": [\n",
    "        {\n",
    "            \"Effect\": \"Allow\",\n",
    "            \"Principal\": {\n",
    "                \"Service\": \"bedrock.amazonaws.com\"\n",
    "            },\n",
    "            \"Action\": \"sts:AssumeRole\"\n",
    "        }\n",
    "    ]\n",
    "}\n",
    "\n",
    "# Define IAM policy for invoking the foundation model\n",
    "policy = {\n",
    "    \"Version\": \"2012-10-17\",\n",
    "    \"Statement\": [\n",
    "        {\n",
    "            \"Effect\": \"Allow\",\n",
    "            \"Action\": [\n",
    "                \"bedrock:InvokeModel\"\n",
    "            ],\n",
    "            \"Resource\": [\n",
    "                f\"arn:aws:bedrock:{region_name}::foundation-model/{foundationModel}\"\n",
    "            ]\n",
    "        }\n",
    "    ]\n",
    "}\n",
    "\n",
    "role_name = f\"test-agent-{randomSuffix}\"\n",
    "\n",
    "# Create IAM role and attach policy\n",
    "role = iam.create_role(\n",
    "    RoleName=role_name,\n",
    "    AssumeRolePolicyDocument = json.dumps(trustPolicy)\n",
    ")\n",
    "iam.put_role_policy(\n",
    "    RoleName=role_name,\n",
    "    PolicyName = f\"policy-test-agent-{randomSuffix}\",\n",
    "    PolicyDocument = json.dumps(policy)\n",
    ")\n",
    "\n",
    "roleArn = role['Role']['Arn']\n",
    "\n",
    "print(f\"IAM Role: {roleArn[:13]}{'*' * 12}{roleArn[25:]}\")\n",
    "\n",
    "print(\"Creating the agent...\")\n",
    "\n",
    "# Create the Bedrock Agent\n",
    "response = bedrock_agent.create_agent(\n",
    "    agentName=f\"{agentName}-{randomSuffix}\",\n",
    "    foundationModel=foundationModel,\n",
    "    instruction=instruction,\n",
    "    agentResourceRoleArn=roleArn,\n",
    "    \n",
    "    ######################################### Configure memory for the agent\n",
    "    memoryConfiguration={\n",
    "        'enabledMemoryTypes': [\n",
    "            'SESSION_SUMMARY',  # Type of memory to store\n",
    "        ],\n",
    "        'storageDays': 30  # Number of days to retain conversational context\n",
    "    }\n",
    ")\n",
    "\n",
    "agentId = response['agent']['agentId']\n",
    "\n",
    "print(\"Waiting for agent status of 'NOT_PREPARED'...\")\n",
    "\n",
    "# Wait for agent to reach 'NOT_PREPARED' status\n",
    "agentStatus = ''\n",
    "while agentStatus != 'NOT_PREPARED':\n",
    "    response = bedrock_agent.get_agent(\n",
    "        agentId=agentId\n",
    "    )\n",
    "    agentStatus = response['agent']['agentStatus']\n",
    "    print(f\"Agent status: {agentStatus}\")\n",
    "    time.sleep(2)\n",
    "\n",
    "print(\"Preparing the agent...\")\n",
    "\n",
    "# Prepare the agent for use\n",
    "response = bedrock_agent.prepare_agent(\n",
    "    agentId=agentId\n",
    ")\n",
    "\n",
    "print(\"Waiting for agent status of 'PREPARED'...\")\n",
    "\n",
    "# Wait for agent to reach 'PREPARED' status\n",
    "agentStatus = ''\n",
    "while agentStatus != 'PREPARED':\n",
    "    response = bedrock_agent.get_agent(\n",
    "        agentId=agentId\n",
    "    )\n",
    "    agentStatus = response['agent']['agentStatus']\n",
    "    print(f\"Agent status: {agentStatus}\")\n",
    "    time.sleep(2)\n",
    "\n",
    "print(\"Creating an agent alias...\")\n",
    "\n",
    "# Create an alias for the agent\n",
    "response = bedrock_agent.create_agent_alias(\n",
    "    agentAliasName='test',\n",
    "    agentId=agentId\n",
    ")\n",
    "\n",
    "agentAliasId = response['agentAlias']['agentAliasId']\n",
    "\n",
    "# Wait for agent alias to be prepared\n",
    "agentAliasStatus = ''\n",
    "while agentAliasStatus != 'PREPARED':\n",
    "    response = bedrock_agent.get_agent_alias(\n",
    "        agentId=agentId,\n",
    "        agentAliasId=agentAliasId\n",
    "    )\n",
    "    agentAliasStatus = response['agentAlias']['agentAliasStatus']\n",
    "    print(f\"Agent alias status: {agentAliasStatus}\")\n",
    "    time.sleep(2)\n",
    "\n",
    "print('Done.\\n')\n",
    "\n",
    "print(f\"agentId: {agentId}, agentAliasId: {agentAliasId}\")"
   ]
  },
  {
   "cell_type": "markdown",
   "metadata": {},
   "source": [
    "Phew! That was a lot, but we've successfully set up our Bedrock Agent. Let's break down what we did:\n",
    "\n",
    "1. We created an IAM role and policy to allow our agent to invoke the foundation model.\n",
    "2. We created the agent itself, using Claude 3 Haiku as the foundation model.\n",
    "3. We enabled long-term memory (SESSION_SUMMARY) for our agent...\n",
    "\n",
    "```\n",
    "    memoryConfiguration={\n",
    "        'enabledMemoryTypes': [\n",
    "            'SESSION_SUMMARY',\n",
    "        ],\n",
    "        'storageDays': 30\n",
    "    }\n",
    "```\n",
    "\n",
    "4. We prepared the agent and created an alias for it.\n",
    "\n",
    "Now that our agent is ready, let's set up the runtime client to interact with it!"
   ]
  },
  {
   "cell_type": "code",
   "execution_count": null,
   "metadata": {},
   "outputs": [],
   "source": [
    "bedrock_agent_runtime = boto3.client(service_name = 'bedrock-agent-runtime', region_name = region_name)"
   ]
  },
  {
   "cell_type": "markdown",
   "metadata": {},
   "source": [
    "## Step 4: Set Up Session and Memory IDs\n",
    "\n",
    "To keep track of our conversations and memories, we need to set up session and memory IDs. The session ID will change for each new conversation, while the memory ID remains constant to maintain long-term memory."
   ]
  },
  {
   "cell_type": "code",
   "execution_count": null,
   "metadata": {},
   "outputs": [],
   "source": [
    "sessionId = str(uuid.uuid4())\n",
    "memoryId = \"TEST-MEMORY-ID-ABC123\""
   ]
  },
  {
   "cell_type": "markdown",
   "metadata": {},
   "source": [
    "## Step 5: Create an Invoke Function\n",
    "\n",
    "Now, let's create a handy function to interact with our agent. This function will handle sending messages to the agent and processing its responses."
   ]
  },
  {
   "cell_type": "code",
   "execution_count": null,
   "metadata": {},
   "outputs": [],
   "source": [
    "def invoke(inputText, showTrace=False, endSession=False):\n",
    "\n",
    "    try:\n",
    "\n",
    "        # Invoke the Agent - Sends a prompt for the agent to process and respond to.\n",
    "        response = bedrock_agent_runtime.invoke_agent(\n",
    "            agentAliasId=agentAliasId,   # (string) – [REQUIRED] The alias of the agent to use.\n",
    "            agentId=agentId,             # (string) – [REQUIRED] The unique identifier of the agent to use.\n",
    "            sessionId=sessionId,         # (string) – [REQUIRED] The unique identifier of the session. Use the same value across requests to continue the same conversation.\n",
    "            inputText=inputText,         # (string) - The prompt text to send the agent.\n",
    "            memoryId=memoryId,           # (string) – The unique identifier of the agent memory.\n",
    "            endSession=endSession,       # (boolean) – Specifies whether to end the session with the agent or not.\n",
    "            enableTrace=True,            # (boolean) – Specifies whether to turn on the trace or not to track the agent's reasoning process.\n",
    "        )\n",
    "\n",
    "        # The response of this operation contains an EventStream member. \n",
    "        event_stream = response[\"completion\"]\n",
    "\n",
    "        # When iterated the EventStream will yield events.\n",
    "        for event in event_stream:\n",
    "            \n",
    "            # chunk contains a part of an agent response\n",
    "            if 'chunk' in event:\n",
    "                chunk = event['chunk']\n",
    "                if 'bytes' in chunk:\n",
    "                    text = chunk['bytes'].decode('utf-8')\n",
    "                    print(f\"Chunk: {text}\\n\")\n",
    "                else:\n",
    "                    print(\"Chunk doesn't contain 'bytes'\")\n",
    " \n",
    "            # Trace enablement helps you follow the agent's reasoning process that led it to \n",
    "            # the information it processed, the actions it took, and the final result it yielded. \n",
    "            # Here we will print out some trace info, and do some basic formatting for convenance.\n",
    "            if showTrace:\n",
    "                if 'trace' in event:\n",
    "                    trace = event['trace']\n",
    "                    if 'modelInvocationInput' in trace['trace']['orchestrationTrace']:\n",
    "                        mii = trace['trace']['orchestrationTrace']['modelInvocationInput']['text']\n",
    "                        system_prompt = json.loads(mii)['system']\n",
    "                        system_prompt_format = ((system_prompt.replace('        ','\\n')).replace('.-', '.\\n\\t-')).replace('<','\\n<')\n",
    "                        print(f\"Trace: Systems Prompt: {system_prompt_format}\\n{'-'*100}\")\n",
    "                    if 'rationale' in trace['trace']['orchestrationTrace']:\n",
    "                        print(f\"Trace: Rationale: {trace['trace']['orchestrationTrace']['rationale']['text']}\\n{'-'*100}\")\n",
    "\n",
    "    except Exception as e:\n",
    "        print(f\"Error: {e}\")\n",
    "\n",
    "def end_session():\n",
    "    invoke(\"Goodbye\", False, True)"
   ]
  },
  {
   "cell_type": "markdown",
   "metadata": {},
   "source": [
    "This `invoke` function is our Swiss Army knife for interacting with the agent. It handles sending messages, processing responses, and even allows us to peek into the agent's thought process with the `showTrace` option. The `end_session` function is a convenient way to politely end our conversation with the agent."
   ]
  },
  {
   "cell_type": "markdown",
   "metadata": {},
   "source": [
    "## Step 6: Interacting with the Agent _(Remember this is preview.)_\n",
    "\n",
    "Now that we have everything set up, let's have a conversation with our agent! We'll start with a simple greeting and then share some information about our preferences."
   ]
  },
  {
   "cell_type": "code",
   "execution_count": null,
   "metadata": {},
   "outputs": [],
   "source": [
    "invoke(\"Hello.\")"
   ]
  },
  {
   "cell_type": "markdown",
   "metadata": {},
   "source": [
    "Let's tell our agent about our beverage preferences. This information will be stored in its long-term memory."
   ]
  },
  {
   "cell_type": "code",
   "execution_count": null,
   "metadata": {},
   "outputs": [],
   "source": [
    "invoke(\"I really like tea, its my favorite drink.  I do not like coffee much.\")"
   ]
  },
  {
   "cell_type": "markdown",
   "metadata": {},
   "source": [
    "Now, let's get more specific about our tea preferences."
   ]
  },
  {
   "cell_type": "code",
   "execution_count": null,
   "metadata": {},
   "outputs": [],
   "source": [
    "invoke(\"I like black tea, with no milk or sugar.  Its super easy to make and its what I like.\")"
   ]
  },
  {
   "cell_type": "markdown",
   "metadata": {},
   "source": [
    "Great! We've had a nice chat with our agent and shared some personal preferences. Now, let's end this session and see how the agent's memory works."
   ]
  },
  {
   "cell_type": "code",
   "execution_count": null,
   "metadata": {},
   "outputs": [],
   "source": [
    "end_session()"
   ]
  },
  {
   "cell_type": "markdown",
   "metadata": {},
   "source": [
    "## Step 7: Checking the Agent's Memory\n",
    "\n",
    "After ending the session, let's check what the agent has stored in its long-term memory. This process might take a few minutes as the agent processes and summarizes the conversation."
   ]
  },
  {
   "cell_type": "code",
   "execution_count": null,
   "metadata": {},
   "outputs": [],
   "source": [
    "start_time = time.time()\n",
    "timeout = 300  # 5 minutes in seconds\n",
    "memoryContents = []\n",
    "\n",
    "while len(memoryContents) < 1 and (time.time() - start_time) < timeout:\n",
    "    response = bedrock_agent_runtime.get_agent_memory(\n",
    "        agentAliasId=agentAliasId,\n",
    "        agentId=agentId,\n",
    "        memoryId=memoryId,\n",
    "        memoryType='SESSION_SUMMARY',\n",
    "    )\n",
    "    memoryContents = response.get('memoryContents', [])\n",
    "    \n",
    "    if len(memoryContents) == 0:\n",
    "        print(\"Waiting for memory to be captured...\")\n",
    "        time.sleep(15)\n",
    "\n",
    "if len(memoryContents) > 0:\n",
    "    print(\"Memory is captured.\")\n",
    "    print(memoryContents[0]['sessionSummary']['summaryText'])\n",
    "else:\n",
    "    raise TimeoutError(\"Timeout reached. Memory was not captured within 5 minutes.\")"
   ]
  },
  {
   "cell_type": "markdown",
   "metadata": {},
   "source": [
    "## Step 8: Starting a New Session\n",
    "\n",
    "Now that we've seen what the agent remembers, let's start a new session and see if it can recall our preferences."
   ]
  },
  {
   "cell_type": "code",
   "execution_count": null,
   "metadata": {},
   "outputs": [],
   "source": [
    "sessionId = str(uuid.uuid4())"
   ]
  },
  {
   "cell_type": "markdown",
   "metadata": {},
   "source": [
    "Let's ask the agent about our drink preference and see if it remembers!"
   ]
  },
  {
   "cell_type": "code",
   "execution_count": null,
   "metadata": {},
   "outputs": [],
   "source": [
    "invoke(\"Hello again. If you could make me a drink, what would it be?\")"
   ]
  },
  {
   "cell_type": "markdown",
   "metadata": {},
   "source": [
    "Now, let's mention something new and see how the agent responds. We'll also enable the trace to see the agent's thought process."
   ]
  },
  {
   "cell_type": "code",
   "execution_count": null,
   "metadata": {},
   "outputs": [],
   "source": [
    "invoke(\"I nice biscuit would be great around now!\", True)"
   ]
  },
  {
   "cell_type": "markdown",
   "metadata": {},
   "source": [
    "## Step 9: Cleaning Up\n",
    "\n",
    "We've had a great time chatting with our Bedrock Agent, but now it's time to clean up. Let's delete the agent and its associated resources."
   ]
  },
  {
   "cell_type": "code",
   "execution_count": null,
   "metadata": {},
   "outputs": [],
   "source": [
    "response = bedrock_agent.delete_agent(\n",
    "    agentId=agentId,\n",
    "    skipResourceInUseCheck=True\n",
    ")\n",
    "\n",
    "response['agentStatus']"
   ]
  },
  {
   "cell_type": "markdown",
   "metadata": {},
   "source": [
    "Finally, let's clean up the IAM role and policies we created for this demo."
   ]
  },
  {
   "cell_type": "code",
   "execution_count": null,
   "metadata": {},
   "outputs": [],
   "source": [
    "inline_policies = iam.list_role_policies(RoleName=role_name)\n",
    "for policy_name in inline_policies.get('PolicyNames', []):\n",
    "    iam.delete_role_policy(RoleName=role_name, PolicyName=policy_name)\n",
    "    print(f\"Deleted inline policy: {policy_name}\")\n",
    "\n",
    "response = iam.delete_role(\n",
    "    RoleName=role_name\n",
    ")\n",
    "\n",
    "print(f\"Deleted role.\")"
   ]
  },
  {
   "cell_type": "markdown",
   "metadata": {},
   "source": [
    "## Conclusion\n",
    "\n",
    "And there you have it! We've successfully created a Bedrock Agent, given it some long-term memory, had a conversation with it, and then cleaned everything up. \n",
    "\n",
    "Through this process, we've seen how to:\n",
    "1. Set up the necessary AWS resources for a Bedrock Agent\n",
    "2. Create and configure an agent with long-term memory\n",
    "3. Interact with the agent and observe its responses\n",
    "4. Check what information the agent stores in its memory\n",
    "5. Start a new session and test the agent's recall\n",
    "6. Clean up all the resources when we're done\n",
    "\n",
    "This demo showcases the power of Bedrock Agents and how they can be used to create interactive, memory-enabled AI assistants. The possibilities for using this in various applications are endless!"
   ]
  }
 ],
 "metadata": {
  "kernelspec": {
   "display_name": "base",
   "language": "python",
   "name": "python3"
  },
  "language_info": {
   "codemirror_mode": {
    "name": "ipython",
    "version": 3
   },
   "file_extension": ".py",
   "mimetype": "text/x-python",
   "name": "python",
   "nbconvert_exporter": "python",
   "pygments_lexer": "ipython3",
   "version": "3.10.14"
  }
 },
 "nbformat": 4,
 "nbformat_minor": 2
}
